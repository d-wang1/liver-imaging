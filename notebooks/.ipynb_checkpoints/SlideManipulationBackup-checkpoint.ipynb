version https://git-lfs.github.com/spec/v1
oid sha256:a6a2ae33702e84cbbd012f0d3138199c0fb538b7abe232b25dee688be42b9a09
size 29675
